{
 "cells": [
  {
   "cell_type": "code",
   "execution_count": 7,
   "metadata": {},
   "outputs": [
    {
     "ename": "ModuleNotFoundError",
     "evalue": "No module named 'geopandas'",
     "output_type": "error",
     "traceback": [
      "\u001b[1;31m---------------------------------------------------------------------------\u001b[0m",
      "\u001b[1;31mModuleNotFoundError\u001b[0m                       Traceback (most recent call last)",
      "\u001b[1;32m<ipython-input-7-ac5317322e37>\u001b[0m in \u001b[0;36m<module>\u001b[1;34m\u001b[0m\n\u001b[0;32m      2\u001b[0m \u001b[1;32mfrom\u001b[0m \u001b[0msklearn\u001b[0m \u001b[1;32mimport\u001b[0m \u001b[0mdatasets\u001b[0m\u001b[1;33m\u001b[0m\u001b[1;33m\u001b[0m\u001b[0m\n\u001b[0;32m      3\u001b[0m \u001b[1;32mimport\u001b[0m \u001b[0mpandas\u001b[0m \u001b[1;32mas\u001b[0m \u001b[0mpd\u001b[0m\u001b[1;33m\u001b[0m\u001b[1;33m\u001b[0m\u001b[0m\n\u001b[1;32m----> 4\u001b[1;33m \u001b[1;32mimport\u001b[0m \u001b[0mgeopandas\u001b[0m \u001b[1;32mas\u001b[0m \u001b[0mgpd\u001b[0m\u001b[1;33m\u001b[0m\u001b[1;33m\u001b[0m\u001b[0m\n\u001b[0m\u001b[0;32m      5\u001b[0m \u001b[1;32mimport\u001b[0m \u001b[0mnumpy\u001b[0m \u001b[1;32mas\u001b[0m \u001b[0mnp\u001b[0m\u001b[1;33m\u001b[0m\u001b[1;33m\u001b[0m\u001b[0m\n\u001b[0;32m      6\u001b[0m \u001b[1;32mimport\u001b[0m \u001b[0mmath\u001b[0m\u001b[1;33m\u001b[0m\u001b[1;33m\u001b[0m\u001b[0m\n",
      "\u001b[1;31mModuleNotFoundError\u001b[0m: No module named 'geopandas'"
     ]
    }
   ],
   "source": [
    "# import modules\n",
    "from sklearn import datasets\n",
    "import pandas as pd\n",
    "import geopandas as gpd\n",
    "import numpy as np\n",
    "import math\n",
    "import folium\n",
    "from folium import Choropleth, Circle, Marker\n",
    "from folium.plugins import HeatMap, MarkerCluster\n",
    "from random import randint\n",
    "import os"
   ]
  },
  {
   "cell_type": "code",
   "execution_count": 6,
   "metadata": {},
   "outputs": [],
   "source": [
    "boston_df = pd.read_csv(r'boston_corrected.csv')\n",
    "boston_gdf  = gpd.GeoDataFrame(boston_df, geometry=gpd.points_from_xy(boston_df.LAT, boston_df.LON))\n",
    "\n",
    "hospital_df = pd.read_csv('massachusetts-hospitals.csv')\n",
    "hospital_gdf  = gpd.GeoDataFrame(hospital_df, geometry=gpd.points_from_xy(hospital_df.SHAPE_Y, hospital_df.SHAPE_X))\n",
    "\n",
    "school_df = pd.read_csv('massachusetts-schools-pre-k-through-high-school.csv')\n",
    "school_gdf  = gpd.GeoDataFrame(school_df, geometry=gpd.points_from_xy(school_df.SHAPE_Y, school_df.SHAPE_X))"
   ]
  },
  {
   "cell_type": "code",
   "execution_count": null,
   "metadata": {},
   "outputs": [],
   "source": [
    "boston_gdf.to_crs(epsg=27700, inplace=True)\n",
    "hospital_gdf.to_crs(epsg=27700, inplace=True)\n",
    "school_gdf.to_crs(epsg=27700, inplace=True)\n",
    "\n",
    "print(boston_gdf.crs.axis_info[0].unit_name)"
   ]
  },
  {
   "cell_type": "code",
   "execution_count": null,
   "metadata": {},
   "outputs": [],
   "source": [
    "boston_gdf['dist_nearest_hospital'] = [np.inf for _ in range(len(boston_gdf))]\n",
    "for idx, hospital in hospital_gdf.iterrows():\n",
    "    boston_gdf['dist_nearest_hospital'] = [min(a,b) for a,b in zip(boston_gdf['dist_nearest_hospital'],\n",
    "                                              boston_gdf.geometry.distance(hospital.geometry))]\n",
    "    \n",
    "boston_gdf['dist_nearest_school'] = [np.inf for _ in range(len(boston_gdf))]\n",
    "for idx, school in school_gdf.iterrows():\n",
    "    boston_gdf['dist_nearest_school'] = [min(a,b) for a,b in zip(boston_gdf['dist_nearest_school'],\n",
    "                                              boston_gdf.geometry.distance(school.geometry))]"
   ]
  },
  {
   "cell_type": "code",
   "execution_count": null,
   "metadata": {},
   "outputs": [],
   "source": [
    "# Setup colors for each town \n",
    "num_town_ids = gdf['TOWNNO'].nunique()"
   ]
  },
  {
   "cell_type": "code",
   "execution_count": null,
   "metadata": {},
   "outputs": [],
   "source": [
    "# Color vector with 92 unique colors\n",
    "colors = []\n",
    "\n",
    "for i in range(num_town_ids):\n",
    "    colors.append('#%06X' % randint(0, 0xFFFFFF))"
   ]
  },
  {
   "cell_type": "code",
   "execution_count": null,
   "metadata": {},
   "outputs": [],
   "source": [
    "# # Read in the geoJSON files\n",
    "# landmarks = os.path.join('Boston_Landmarks_Commission_(BLC)_Historic_Districts.geojson')\n",
    "# unis = os.path.join('Colleges_and_Universities.geojson')\n",
    "# com_pools = os.path.join('Community_Center_Pools.geojson')\n",
    "# com_centers = os.path.join('Community_Centers.geojson')\n",
    "# fire_deps = os.path.join('Fire_Departments.geojson')\n",
    "# hosps = os.path.join('Hospitals.geojson')\n",
    "# non_pub_schs = os.path.join('Non_Public_Schools.geojson')\n",
    "# open_spaces = os.path.join('Open_Space.geojson')\n",
    "# precincts = os.path.join('Precincts.geojson')\n",
    "# ZIPs = os.path.join('ZIP_Codes.geojson')\n",
    "# zones = os.path.join('Zoning_Subdistricts.geojson')"
   ]
  },
  {
   "cell_type": "code",
   "execution_count": null,
   "metadata": {},
   "outputs": [],
   "source": [
    "# # Create a map\n",
    "# m_2 = folium.Map(location=[42.32,-71.0589], tiles='cartodbpositron', zoom_start=13)\n",
    "\n",
    "# # Add points to the map\n",
    "# for idx, row in boston_corrected.iterrows():\n",
    "# #     print(boston_corrected.loc[idx,'TOWNNO'])\n",
    "# #     print(colors[boston_corrected.loc[idx,'TOWNNO']])\n",
    "#     Marker([row['LAT'], row['LON']],icon=folium.Icon(color='black',icon_color=colors[row['TOWNNO']])).add_to(m_2)\n",
    "\n",
    "# # Add    \n",
    "# folium.GeoJson(precincts, name = 'uni').add_to(m_2)\n",
    "\n",
    "# # Display the map\n",
    "# #m_2"
   ]
  },
  {
   "cell_type": "code",
   "execution_count": null,
   "metadata": {},
   "outputs": [],
   "source": [
    "# Create a map\n",
    "m_1 = folium.Map(location=[42.32,-71.0589], tiles='cartodbpositron', zoom_start=13)\n",
    "\n",
    "# Add a bubble map to the base map\n",
    "for i in range(0,len(boston_corrected)):\n",
    "    Circle(\n",
    "        location=[boston_corrected.iloc[i]['LAT'], boston_corrected.iloc[i]['LON']],\n",
    "        radius=50,\n",
    "        color=colors[boston_corrected.iloc[i]['TOWNNO']]).add_to(m_1)\n",
    "    \n",
    "# Add GeoJson files\n",
    "# folium.GeoJson(precincts, name = 'precincts').add_to(m_1)\n",
    "# folium.GeoJson(hosps, name = 'hosps').add_to(m_1)\n",
    "# folium.GeoJson(fire_deps, name = 'fire_deps').add_to(m_1)\n",
    "# folium.GeoJson(non_pub_schs, name = 'non_pub_schs').add_to(m_1)\n",
    "# folium.GeoJson(unis, name = 'unis').add_to(m_1)\n",
    "# folium.GeoJson(com_pools, name = 'com_pools').add_to(m_1)\n",
    "# folium.GeoJson(com_centers, name = 'com_centers').add_to(m_1)\n",
    "\n",
    "# Display the map\n",
    "# m_1"
   ]
  },
  {
   "cell_type": "code",
   "execution_count": null,
   "metadata": {},
   "outputs": [],
   "source": [
    "hospitals.head()"
   ]
  },
  {
   "cell_type": "code",
   "execution_count": null,
   "metadata": {},
   "outputs": [],
   "source": [
    "# Create a map\n",
    "m_2 = folium.Map(location=[42.32,-71.0589], tiles='cartodbpositron', zoom_start=13)\n",
    "\n",
    "# Add a bubble map to the base map\n",
    "for i in range(0,len(boston_corrected)):\n",
    "    Circle(\n",
    "        location=[boston_corrected.iloc[i]['LAT'], boston_corrected.iloc[i]['LON']],\n",
    "        radius=100,\n",
    "        color=colors[boston_corrected.iloc[i]['TOWNNO']]).add_to(m_2)\n",
    "    \n",
    "# Add a bubble map for hospitals\n",
    "for i in range(0,len(hospitals)):\n",
    "    Circle(\n",
    "        location=[hospitals.iloc[i]['SHAPE_Y'], hospitals.iloc[i]['SHAPE_X']],\n",
    "        radius=10,\n",
    "        color='red').add_to(m_2)\n",
    "    \n",
    "# Add a bubble map for hospitals\n",
    "for i in range(0,len(schools)):\n",
    "    Circle(\n",
    "        location=[schools.iloc[i]['SHAPE_Y'], schools.iloc[i]['SHAPE_X']],\n",
    "        radius=10,\n",
    "        color='black').add_to(m_2)   \n",
    "\n",
    "\n",
    "# Display the map\n",
    "m_2"
   ]
  },
  {
   "cell_type": "code",
   "execution_count": null,
   "metadata": {},
   "outputs": [],
   "source": []
  },
  {
   "cell_type": "code",
   "execution_count": null,
   "metadata": {},
   "outputs": [],
   "source": []
  }
 ],
 "metadata": {
  "kernelspec": {
   "display_name": "Python 3",
   "language": "python",
   "name": "python3"
  },
  "language_info": {
   "codemirror_mode": {
    "name": "ipython",
    "version": 3
   },
   "file_extension": ".py",
   "mimetype": "text/x-python",
   "name": "python",
   "nbconvert_exporter": "python",
   "pygments_lexer": "ipython3",
   "version": "3.8.5"
  }
 },
 "nbformat": 4,
 "nbformat_minor": 2
}
