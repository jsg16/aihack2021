{
 "cells": [
  {
   "cell_type": "code",
   "execution_count": 80,
   "metadata": {},
   "outputs": [],
   "source": [
    "import pandas as pd\n",
    "import matplotlib.pyplot as plt\n",
    "import seaborn as sns\n",
    "import numpy as np"
   ]
  },
  {
   "cell_type": "code",
   "execution_count": 4,
   "metadata": {},
   "outputs": [],
   "source": [
    "df = pd.read_csv(r'boston_corrected.csv')"
   ]
  },
  {
   "cell_type": "markdown",
   "metadata": {},
   "source": [
    "## Checking and cleaning the data"
   ]
  },
  {
   "cell_type": "markdown",
   "metadata": {},
   "source": [
    "This data frame contains the following columns:\n",
    "\n",
    "* TOWN a factor with levels given by town names\n",
    "    * Should all be strings\n",
    "    * All have capital letter at the beginning of each word\n",
    "\n",
    "* TOWNNO a numeric vector corresponding to TOWN\n",
    "    * Should be int\n",
    "    * Should be same number as number of unique town names\n",
    "\n",
    "* TRACT a numeric vector of tract ID numbers\n",
    "    * Should be int\n",
    "    * Should be >= 0\n",
    "\n",
    "* LON a numeric vector of tract point longitudes in decimal degrees\n",
    "    * Should be float\n",
    "    * Should be between -180 and 180\n",
    "\n",
    "* LAT a numeric vector of tract point latitudes in decimal degrees\n",
    "    * Should be float\n",
    "    * Should be between -90 and 90\n",
    "\n",
    "* MEDV a numeric vector of median values of owner-occupied housing in USD 1000\n",
    "    * Should be float\n",
    "\n",
    "* CMEDV a numeric vector of corrected median values of owner-occupied housing in USD 1000\n",
    "    * Should be float\n",
    "\n",
    "* CRIM a numeric vector of per capita crime\n",
    "    * Should be float\n",
    "\n",
    "* ZN a numeric vector of proportions of residential land zoned for lots over 25000 sq. ft per town (constant for all Boston tracts)\n",
    "    * Should be float\n",
    "\n",
    "* INDUS a numeric vector of proportions of non-retail business acres per town (constant for all Boston tracts)\n",
    "    * Should be float\n",
    "\n",
    "* CHAS a factor with levels 1 if tract borders Charles River; 0 otherwise\n",
    "    * Should be int\n",
    "\n",
    "* NOX a numeric vector of nitric oxides concentration (parts per 10 million) per town\n",
    "    * Should be float\n",
    "\n",
    "* RM a numeric vector of average numbers of rooms per dwelling\n",
    "    * Should be float\n",
    "\n",
    "* AGE a numeric vector of proportions of owner-occupied units built prior to 1940\n",
    "    * Should be float\n",
    "\n",
    "* DIS a numeric vector of weighted distances to five Boston employment centres\n",
    "    * Should be float\n",
    "\n",
    "* RAD a numeric vector of an index of accessibility to radial highways per town (constant for all Boston tracts)\n",
    "    * Should be float\n",
    "\n",
    "* TAX a numeric vector full-value property-tax rate per USD 10,000 per town (constant for all Boston tracts)\n",
    "    * Should be float\n",
    "\n",
    "* PTRATIO a numeric vector of pupil-teacher ratios per town (constant for all Boston tracts)\n",
    "    * Should be float\n",
    "\n",
    "* B a numeric vector of 1000*(Bk - 0.63)^2 where Bk is the proportion of blacks\n",
    "    * Should be float\n",
    "\n",
    "* LSTAT a numeric vector of percentage values of lower status population\n",
    "    * Should be float\n",
    "\n",
    "Adapted from: https://nowosad.github.io/spData/reference/boston.html"
   ]
  },
  {
   "cell_type": "code",
   "execution_count": 5,
   "metadata": {},
   "outputs": [
    {
     "data": {
      "text/html": [
       "<div>\n",
       "<style scoped>\n",
       "    .dataframe tbody tr th:only-of-type {\n",
       "        vertical-align: middle;\n",
       "    }\n",
       "\n",
       "    .dataframe tbody tr th {\n",
       "        vertical-align: top;\n",
       "    }\n",
       "\n",
       "    .dataframe thead th {\n",
       "        text-align: right;\n",
       "    }\n",
       "</style>\n",
       "<table border=\"1\" class=\"dataframe\">\n",
       "  <thead>\n",
       "    <tr style=\"text-align: right;\">\n",
       "      <th></th>\n",
       "      <th>TOWN</th>\n",
       "      <th>TOWNNO</th>\n",
       "      <th>TRACT</th>\n",
       "      <th>LON</th>\n",
       "      <th>LAT</th>\n",
       "      <th>MEDV</th>\n",
       "      <th>CMEDV</th>\n",
       "      <th>CRIM</th>\n",
       "      <th>ZN</th>\n",
       "      <th>INDUS</th>\n",
       "      <th>CHAS</th>\n",
       "      <th>NOX</th>\n",
       "      <th>RM</th>\n",
       "      <th>AGE</th>\n",
       "      <th>DIS</th>\n",
       "      <th>RAD</th>\n",
       "      <th>TAX</th>\n",
       "      <th>PTRATIO</th>\n",
       "      <th>B</th>\n",
       "      <th>LSTAT</th>\n",
       "    </tr>\n",
       "  </thead>\n",
       "  <tbody>\n",
       "    <tr>\n",
       "      <th>0</th>\n",
       "      <td>Nahant</td>\n",
       "      <td>0</td>\n",
       "      <td>2011</td>\n",
       "      <td>-70.955</td>\n",
       "      <td>42.2550</td>\n",
       "      <td>24.0</td>\n",
       "      <td>24.0</td>\n",
       "      <td>0.00632</td>\n",
       "      <td>18.0</td>\n",
       "      <td>2.31</td>\n",
       "      <td>0</td>\n",
       "      <td>0.538</td>\n",
       "      <td>6.575</td>\n",
       "      <td>65.2</td>\n",
       "      <td>4.0900</td>\n",
       "      <td>1</td>\n",
       "      <td>296</td>\n",
       "      <td>15.3</td>\n",
       "      <td>396.90</td>\n",
       "      <td>4.98</td>\n",
       "    </tr>\n",
       "    <tr>\n",
       "      <th>1</th>\n",
       "      <td>Swampscott</td>\n",
       "      <td>1</td>\n",
       "      <td>2021</td>\n",
       "      <td>-70.950</td>\n",
       "      <td>42.2875</td>\n",
       "      <td>21.6</td>\n",
       "      <td>21.6</td>\n",
       "      <td>0.02731</td>\n",
       "      <td>0.0</td>\n",
       "      <td>7.07</td>\n",
       "      <td>0</td>\n",
       "      <td>0.469</td>\n",
       "      <td>6.421</td>\n",
       "      <td>78.9</td>\n",
       "      <td>4.9671</td>\n",
       "      <td>2</td>\n",
       "      <td>242</td>\n",
       "      <td>17.8</td>\n",
       "      <td>396.90</td>\n",
       "      <td>9.14</td>\n",
       "    </tr>\n",
       "    <tr>\n",
       "      <th>2</th>\n",
       "      <td>Swampscott</td>\n",
       "      <td>1</td>\n",
       "      <td>2022</td>\n",
       "      <td>-70.936</td>\n",
       "      <td>42.2830</td>\n",
       "      <td>34.7</td>\n",
       "      <td>34.7</td>\n",
       "      <td>0.02729</td>\n",
       "      <td>0.0</td>\n",
       "      <td>7.07</td>\n",
       "      <td>0</td>\n",
       "      <td>0.469</td>\n",
       "      <td>7.185</td>\n",
       "      <td>61.1</td>\n",
       "      <td>4.9671</td>\n",
       "      <td>2</td>\n",
       "      <td>242</td>\n",
       "      <td>17.8</td>\n",
       "      <td>392.83</td>\n",
       "      <td>4.03</td>\n",
       "    </tr>\n",
       "    <tr>\n",
       "      <th>3</th>\n",
       "      <td>Marblehead</td>\n",
       "      <td>2</td>\n",
       "      <td>2031</td>\n",
       "      <td>-70.928</td>\n",
       "      <td>42.2930</td>\n",
       "      <td>33.4</td>\n",
       "      <td>33.4</td>\n",
       "      <td>0.03237</td>\n",
       "      <td>0.0</td>\n",
       "      <td>2.18</td>\n",
       "      <td>0</td>\n",
       "      <td>0.458</td>\n",
       "      <td>6.998</td>\n",
       "      <td>45.8</td>\n",
       "      <td>6.0622</td>\n",
       "      <td>3</td>\n",
       "      <td>222</td>\n",
       "      <td>18.7</td>\n",
       "      <td>394.63</td>\n",
       "      <td>2.94</td>\n",
       "    </tr>\n",
       "    <tr>\n",
       "      <th>4</th>\n",
       "      <td>Marblehead</td>\n",
       "      <td>2</td>\n",
       "      <td>2032</td>\n",
       "      <td>-70.922</td>\n",
       "      <td>42.2980</td>\n",
       "      <td>36.2</td>\n",
       "      <td>36.2</td>\n",
       "      <td>0.06905</td>\n",
       "      <td>0.0</td>\n",
       "      <td>2.18</td>\n",
       "      <td>0</td>\n",
       "      <td>0.458</td>\n",
       "      <td>7.147</td>\n",
       "      <td>54.2</td>\n",
       "      <td>6.0622</td>\n",
       "      <td>3</td>\n",
       "      <td>222</td>\n",
       "      <td>18.7</td>\n",
       "      <td>396.90</td>\n",
       "      <td>5.33</td>\n",
       "    </tr>\n",
       "  </tbody>\n",
       "</table>\n",
       "</div>"
      ],
      "text/plain": [
       "         TOWN  TOWNNO  TRACT     LON      LAT  MEDV  CMEDV     CRIM    ZN  \\\n",
       "0      Nahant       0   2011 -70.955  42.2550  24.0   24.0  0.00632  18.0   \n",
       "1  Swampscott       1   2021 -70.950  42.2875  21.6   21.6  0.02731   0.0   \n",
       "2  Swampscott       1   2022 -70.936  42.2830  34.7   34.7  0.02729   0.0   \n",
       "3  Marblehead       2   2031 -70.928  42.2930  33.4   33.4  0.03237   0.0   \n",
       "4  Marblehead       2   2032 -70.922  42.2980  36.2   36.2  0.06905   0.0   \n",
       "\n",
       "   INDUS  CHAS    NOX     RM   AGE     DIS  RAD  TAX  PTRATIO       B  LSTAT  \n",
       "0   2.31     0  0.538  6.575  65.2  4.0900    1  296     15.3  396.90   4.98  \n",
       "1   7.07     0  0.469  6.421  78.9  4.9671    2  242     17.8  396.90   9.14  \n",
       "2   7.07     0  0.469  7.185  61.1  4.9671    2  242     17.8  392.83   4.03  \n",
       "3   2.18     0  0.458  6.998  45.8  6.0622    3  222     18.7  394.63   2.94  \n",
       "4   2.18     0  0.458  7.147  54.2  6.0622    3  222     18.7  396.90   5.33  "
      ]
     },
     "execution_count": 5,
     "metadata": {},
     "output_type": "execute_result"
    }
   ],
   "source": [
    "df.head()"
   ]
  },
  {
   "cell_type": "markdown",
   "metadata": {},
   "source": [
    "### Checking that there are no null values and that dtypes are as expected"
   ]
  },
  {
   "cell_type": "code",
   "execution_count": 14,
   "metadata": {},
   "outputs": [
    {
     "name": "stdout",
     "output_type": "stream",
     "text": [
      "<class 'pandas.core.frame.DataFrame'>\n",
      "RangeIndex: 506 entries, 0 to 505\n",
      "Data columns (total 20 columns):\n",
      " #   Column   Non-Null Count  Dtype  \n",
      "---  ------   --------------  -----  \n",
      " 0   TOWN     506 non-null    object \n",
      " 1   TOWNNO   506 non-null    int64  \n",
      " 2   TRACT    506 non-null    int64  \n",
      " 3   LON      506 non-null    float64\n",
      " 4   LAT      506 non-null    float64\n",
      " 5   MEDV     506 non-null    float64\n",
      " 6   CMEDV    506 non-null    float64\n",
      " 7   CRIM     506 non-null    float64\n",
      " 8   ZN       506 non-null    float64\n",
      " 9   INDUS    506 non-null    float64\n",
      " 10  CHAS     506 non-null    int64  \n",
      " 11  NOX      506 non-null    float64\n",
      " 12  RM       506 non-null    float64\n",
      " 13  AGE      506 non-null    float64\n",
      " 14  DIS      506 non-null    float64\n",
      " 15  RAD      506 non-null    int64  \n",
      " 16  TAX      506 non-null    int64  \n",
      " 17  PTRATIO  506 non-null    float64\n",
      " 18  B        506 non-null    float64\n",
      " 19  LSTAT    506 non-null    float64\n",
      "dtypes: float64(14), int64(5), object(1)\n",
      "memory usage: 79.2+ KB\n"
     ]
    }
   ],
   "source": [
    "df.info()"
   ]
  },
  {
   "cell_type": "code",
   "execution_count": 19,
   "metadata": {
    "scrolled": true
   },
   "outputs": [
    {
     "data": {
      "text/plain": [
       "['Arlington',\n",
       " 'Ashland',\n",
       " 'Bedford',\n",
       " 'Belmont',\n",
       " 'Beverly',\n",
       " 'Boston Allston-Brighton',\n",
       " 'Boston Back Bay',\n",
       " 'Boston Beacon Hill',\n",
       " 'Boston Charlestown',\n",
       " 'Boston Dorchester',\n",
       " 'Boston Downtown',\n",
       " 'Boston East Boston',\n",
       " 'Boston Forest Hills',\n",
       " 'Boston Hyde Park',\n",
       " 'Boston Mattapan',\n",
       " 'Boston North End',\n",
       " 'Boston Roxbury',\n",
       " 'Boston Savin Hill',\n",
       " 'Boston South Boston',\n",
       " 'Boston West Roxbury',\n",
       " 'Braintree',\n",
       " 'Brookline',\n",
       " 'Burlington',\n",
       " 'Cambridge',\n",
       " 'Canton',\n",
       " 'Chelsea',\n",
       " 'Cohasset',\n",
       " 'Concord',\n",
       " 'Danvers',\n",
       " 'Dedham',\n",
       " 'Dover',\n",
       " 'Duxbury',\n",
       " 'Everett',\n",
       " 'Framingham',\n",
       " 'Hamilton',\n",
       " 'Hanover',\n",
       " 'Hingham',\n",
       " 'Holbrook',\n",
       " 'Hull',\n",
       " 'Lexington',\n",
       " 'Lincoln',\n",
       " 'Lynn',\n",
       " 'Lynnfield',\n",
       " 'Malden',\n",
       " 'Manchester',\n",
       " 'Marblehead',\n",
       " 'Marshfield',\n",
       " 'Medfield',\n",
       " 'Medford',\n",
       " 'Melrose',\n",
       " 'Middleton',\n",
       " 'Millis',\n",
       " 'Milton',\n",
       " 'Nahant',\n",
       " 'Natick',\n",
       " 'Needham',\n",
       " 'Newton',\n",
       " 'Norfolk',\n",
       " 'North Reading',\n",
       " 'Norwell',\n",
       " 'Norwood',\n",
       " 'Peabody',\n",
       " 'Pembroke',\n",
       " 'Quincy',\n",
       " 'Randolph',\n",
       " 'Reading',\n",
       " 'Revere',\n",
       " 'Rockland',\n",
       " 'Salem',\n",
       " 'Sargus',\n",
       " 'Scituate',\n",
       " 'Sharon',\n",
       " 'Sherborn',\n",
       " 'Somerville',\n",
       " 'Stoneham',\n",
       " 'Sudbury',\n",
       " 'Swampscott',\n",
       " 'Topsfield',\n",
       " 'Wakefield',\n",
       " 'Walpole',\n",
       " 'Waltham',\n",
       " 'Watertown',\n",
       " 'Wayland',\n",
       " 'Wellesley',\n",
       " 'Wenham',\n",
       " 'Weston',\n",
       " 'Westwood',\n",
       " 'Weymouth',\n",
       " 'Wilmington',\n",
       " 'Winchester',\n",
       " 'Winthrop',\n",
       " 'Woburn']"
      ]
     },
     "execution_count": 19,
     "metadata": {},
     "output_type": "execute_result"
    }
   ],
   "source": [
    "sorted(df.TOWN.unique())"
   ]
  },
  {
   "cell_type": "markdown",
   "metadata": {},
   "source": [
    "### Check that the characteristics of each column are as expected as defined above"
   ]
  },
  {
   "cell_type": "code",
   "execution_count": 30,
   "metadata": {},
   "outputs": [],
   "source": [
    "assert len(df.TOWN.unique()) == len(df.TOWNNO.unique()), 'Number of unique town names must be equal to number of unique town numbers'"
   ]
  },
  {
   "cell_type": "code",
   "execution_count": 31,
   "metadata": {},
   "outputs": [],
   "source": [
    "assert all(df.TRACT) >= 0, 'ID numbers must be greater than or equal to zero'"
   ]
  },
  {
   "cell_type": "code",
   "execution_count": 32,
   "metadata": {},
   "outputs": [],
   "source": [
    "assert -180 <= all(df.LON) <= 180, 'Longitude must be between -180 and 180'"
   ]
  },
  {
   "cell_type": "code",
   "execution_count": 33,
   "metadata": {},
   "outputs": [],
   "source": [
    "assert -90 <= all(df.LAT) <= 90, 'Latitude must be between -90 and 90'"
   ]
  },
  {
   "cell_type": "code",
   "execution_count": null,
   "metadata": {},
   "outputs": [],
   "source": [
    "# FINISH ASSERTIONS"
   ]
  },
  {
   "cell_type": "code",
   "execution_count": null,
   "metadata": {},
   "outputs": [],
   "source": []
  },
  {
   "cell_type": "markdown",
   "metadata": {},
   "source": [
    "### Dropping the MEDV column as CMEDV will be used as our target variable and we do not want data leakage"
   ]
  },
  {
   "cell_type": "code",
   "execution_count": 41,
   "metadata": {},
   "outputs": [],
   "source": [
    "df.drop('MEDV', axis=1, inplace=True)"
   ]
  },
  {
   "cell_type": "markdown",
   "metadata": {},
   "source": [
    "### Dropping TOWN because it repeats information in TOWNNO"
   ]
  },
  {
   "cell_type": "code",
   "execution_count": 46,
   "metadata": {},
   "outputs": [],
   "source": [
    "df.drop('TOWN', axis=1, inplace=True)"
   ]
  },
  {
   "cell_type": "markdown",
   "metadata": {},
   "source": [
    "### Seperate explanatory variables from target and split into train and test set (80:20), will be using cross-validation on training set"
   ]
  },
  {
   "cell_type": "code",
   "execution_count": 48,
   "metadata": {},
   "outputs": [],
   "source": [
    "X = df.copy()\n",
    "y = X.pop('CMEDV')\n",
    "\n",
    "from sklearn.model_selection import train_test_split\n",
    "\n",
    "X_train, X_test, y_train, y_test = train_test_split(X, y, test_size=0.2, random_state=2021)"
   ]
  },
  {
   "cell_type": "markdown",
   "metadata": {},
   "source": [
    "### Normalizing data using StandardScaler()"
   ]
  },
  {
   "cell_type": "code",
   "execution_count": 71,
   "metadata": {},
   "outputs": [],
   "source": [
    "from sklearn.preprocessing import StandardScaler\n",
    "\n",
    "x_scaler = StandardScaler()\n",
    "X_train_sc = x_scaler.fit_transform(X_train)\n",
    "X_test_sc = x_scaler.transform(X_test)"
   ]
  },
  {
   "cell_type": "markdown",
   "metadata": {},
   "source": [
    "## Feature engineering"
   ]
  },
  {
   "cell_type": "markdown",
   "metadata": {},
   "source": [
    "### Calculate a mutual information score to understand how knowledge of one quantity reduces uncertainty about the target variable"
   ]
  },
  {
   "cell_type": "markdown",
   "metadata": {},
   "source": [
    "* 0 means that the quantities are independent\n",
    "* The higher the score the better\n",
    "* Scores > 2 are uncommon as mutual information score increases slowly as it is a logarithmic quantity"
   ]
  },
  {
   "cell_type": "code",
   "execution_count": 72,
   "metadata": {},
   "outputs": [],
   "source": [
    "from sklearn.feature_selection import mutual_info_regression\n",
    "\n",
    "mi_scores = mutual_info_regression(X, y, random_state=2021)\n",
    "mi_scores_series = pd.Series(mi_scores, name=\"MI Scores\", index=X.columns).sort_values(ascending=False)"
   ]
  },
  {
   "cell_type": "code",
   "execution_count": 73,
   "metadata": {},
   "outputs": [
    {
     "data": {
      "image/png": "[encoded data removed]",
      "text/plain": [
       "<Figure size 432x288 with 1 Axes>"
      ]
     },
     "metadata": {
      "needs_background": "light"
     },
     "output_type": "display_data"
    }
   ],
   "source": [
    "mi_scores_series.plot.barh()\n",
    "plt.xlabel('Mutual Information Score')\n",
    "plt.ylabel('Feature')\n",
    "plt.show()"
   ]
  },
  {
   "cell_type": "markdown",
   "metadata": {},
   "source": [
    "### Benchmark model: Linear Regression"
   ]
  },
  {
   "cell_type": "code",
   "execution_count": 87,
   "metadata": {},
   "outputs": [],
   "source": [
    "def mean_absolute_percentage_error(true, predicted):\n",
    "    return np.mean(abs((true-predicted)/true))*100"
   ]
  },
  {
   "cell_type": "code",
   "execution_count": 88,
   "metadata": {},
   "outputs": [],
   "source": [
    "from sklearn.linear_model import LinearRegression\n",
    "from sklearn.metrics import mean_squared_error\n",
    "\n",
    "benchmark_model = LinearRegression(n_jobs=-1)\n",
    "benchmark_model.fit(X_train_sc, y_train)\n",
    "train_pred = benchmark_model.predict(X_train_sc)\n",
    "train_RMSE = mean_squared_error(y_train, train_pred, squared=False)\n",
    "train_MAPE = mean_absolute_percentage_error(y_train, train_pred)\n",
    "test_pred = benchmark_model.predict(X_test_sc)\n",
    "test_RMSE = mean_squared_error(y_test, test_pred, squared=False)\n",
    "test_MAPE = mean_absolute_percentage_error(y_test, test_pred)"
   ]
  },
  {
   "cell_type": "code",
   "execution_count": 94,
   "metadata": {},
   "outputs": [],
   "source": [
    "benchmark_res = {'train_RMSE':[train_RMSE], 'test_RMSE':[test_RMSE], 'train_MAPE':[train_MAPE], 'test_MAPE':[test_MAPE]}\n",
    "evaluation = pd.DataFrame(benchmark_res, index=['benchmark'])"
   ]
  },
  {
   "cell_type": "code",
   "execution_count": 95,
   "metadata": {},
   "outputs": [
    {
     "data": {
      "text/html": [
       "<div>\n",
       "<style scoped>\n",
       "    .dataframe tbody tr th:only-of-type {\n",
       "        vertical-align: middle;\n",
       "    }\n",
       "\n",
       "    .dataframe tbody tr th {\n",
       "        vertical-align: top;\n",
       "    }\n",
       "\n",
       "    .dataframe thead th {\n",
       "        text-align: right;\n",
       "    }\n",
       "</style>\n",
       "<table border=\"1\" class=\"dataframe\">\n",
       "  <thead>\n",
       "    <tr style=\"text-align: right;\">\n",
       "      <th></th>\n",
       "      <th>train_RMSE</th>\n",
       "      <th>test_RMSE</th>\n",
       "      <th>train_MAPE</th>\n",
       "      <th>test_MAPE</th>\n",
       "    </tr>\n",
       "  </thead>\n",
       "  <tbody>\n",
       "    <tr>\n",
       "      <th>benchmark</th>\n",
       "      <td>4.564629</td>\n",
       "      <td>4.976568</td>\n",
       "      <td>16.783678</td>\n",
       "      <td>18.028588</td>\n",
       "    </tr>\n",
       "  </tbody>\n",
       "</table>\n",
       "</div>"
      ],
      "text/plain": [
       "           train_RMSE  test_RMSE  train_MAPE  test_MAPE\n",
       "benchmark    4.564629   4.976568   16.783678  18.028588"
      ]
     },
     "execution_count": 95,
     "metadata": {},
     "output_type": "execute_result"
    }
   ],
   "source": [
    "evaluation"
   ]
  },
  {
   "cell_type": "code",
   "execution_count": null,
   "metadata": {},
   "outputs": [],
   "source": []
  }
 ],
 "metadata": {
  "kernelspec": {
   "display_name": "Python 3",
   "language": "python",
   "name": "python3"
  },
  "language_info": {
   "codemirror_mode": {
    "name": "ipython",
    "version": 3
   },
   "file_extension": ".py",
   "mimetype": "text/x-python",
   "name": "python",
   "nbconvert_exporter": "python",
   "pygments_lexer": "ipython3",
   "version": "3.8.5"
  }
 },
 "nbformat": 4,
 "nbformat_minor": 4
}
